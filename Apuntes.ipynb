{
 "cells": [
  {
   "cell_type": "code",
   "execution_count": 1,
   "id": "626d1bcc-3be5-485c-a05d-53cfc9453e79",
   "metadata": {},
   "outputs": [],
   "source": [
    "from IPython.display import Image"
   ]
  },
  {
   "cell_type": "markdown",
   "id": "54ccf6f2-5c19-4035-8782-d5f31e5d624e",
   "metadata": {},
   "source": [
    "# Introducción a PCA en Python \n",
    "Principal Component Analysis (PCA) es una tecnica de reducción lineal de dimensionalidad que se utilizaparaextraer información de un espacio de alta dimensionalidad al proyectar esta información en un subespacio de dimensión mas baja. Este análisis trata de preservar los datos con mayor variación y remueve las partes no esenciales con menor variación. "
   ]
  },
  {
   "cell_type": "markdown",
   "id": "a068b7ce-46e6-49f3-ba06-4624d2862cbe",
   "metadata": {},
   "source": [
    "En este caso nos referimos a las dimensiones como características que representan los datos. \n",
    "Una cosa importante por destacar del PCA es que es que es una técnica de reducción de dimensionalidad sin supervisión. "
   ]
  },
  {
   "cell_type": "markdown",
   "id": "1c8ef4ab-a077-4311-b221-60922429b31b",
   "metadata": {},
   "source": [
    "Además es un procedimiento estadístico que utiliza una transformación ortogonal para convertir un conjunto de observaciones de variables posiblemente correlacionadas enun conjunto de valores de variables linealmente no correlacionadas llamadas componentes principales."
   ]
  },
  {
   "cell_type": "markdown",
   "id": "4af6ebbe-62c2-4f89-aa0b-7197a97c101a",
   "metadata": {},
   "source": [
    "# ¿Dondé se puede aplicar PCA? \n",
    "\n"
   ]
  },
  {
   "cell_type": "markdown",
   "id": "06872f84-1fee-41cc-951d-de6be85b182e",
   "metadata": {},
   "source": [
    "* Visualización de data\n",
    "Debido a la grancantidad de información y las variables/rasgos de la misma se necesita una amplia exploración de la misma para encontrar correlaciones entre las variables. Esto puede llegara ser un reto a la hora de visualizar la data. \n",
    "sin embargo el análisis PCA puede reducir dimensiones y permitirnos encontrar menos características. \n",
    "\n",
    "* Acelerar un algoritmo de Aprendizaje automático (Machine learning)\n",
    "\n"
   ]
  },
  {
   "cell_type": "markdown",
   "id": "c6713e4c-db43-4741-a7bf-7d8df9ef7f4f",
   "metadata": {},
   "source": [
    "# ¿Qué es una componente principal?"
   ]
  },
  {
   "cell_type": "markdown",
   "id": "d45f30b6-b143-4c52-bd2f-a75f63a7e9b1",
   "metadata": {},
   "source": [
    "Cuando los datos se proyectan en una dimensión inferior (asuma tres dimensiones) desde un espacio superior, las tres dimensiones no son más que los tres componentes principales que captura (o mantiene) la mayor parte de la varianza (información) de sus datos.\n"
   ]
  },
  {
   "cell_type": "markdown",
   "id": "d179b97a-a785-4307-9d8b-692565fc8881",
   "metadata": {},
   "source": [
    "Los componentes principales tienen tanto dirección como magnitud. La dirección representa a través de qué ejes principales los datos se distribuyen principalmente o tienen más varianza y la magnitud significa la cantidad de varianza que el componente principal captura de los datos cuando se proyecta sobre ese eje.\n",
    "\n",
    "Los componentes principales son una línea recta, y el primer componente principal tiene la mayor varianza en los datos. Cada componente principal posterior es ortogonal al último y tiene una varianza menor. De esta manera, dado un conjunto de variables correlacionadas **x** sobre muestras y se logra un conjunto de componentes principales no correlacionados **u** sobre las mismas muestras **y**\n"
   ]
  },
  {
   "cell_type": "markdown",
   "id": "5a24c0e0-c8b6-4b6e-acb4-978739826d6f",
   "metadata": {},
   "source": [
    "La razón por la que se logra componentes principales no correlacionados de las características originales es que las características correlacionadas contribuyen al mismo componente principal, reduciendo así las características de datos originales en componentes principales no correlacionados; cada uno representa un conjunto diferente de características correlacionadas con diferentes cantidades de variación."
   ]
  },
  {
   "cell_type": "markdown",
   "id": "ed848075-a0d4-4a45-a880-a2c175911ab2",
   "metadata": {},
   "source": [
    "# Conceptos estadísticos detrás del análisis PCA  \n",
    "\n",
    "**Promedio**\n",
    "\n",
    "**Desviación estándar**\n",
    "\n",
    "**Covarianza**\n",
    "\n",
    "La desviación estándar se calcula sobre una única variable. La covarianza se calcula considerando dos variables. La covarianza se convierte en varianza cuando se calcula sobre la propia variable.\n",
    "\n",
    "**Matriz de Covarianza**\n",
    "\n",
    "Podemos representar todos los valores de covarianza posibles calculados para todas las características de un conjunto de datos en una matriz de covarianza.\n",
    "\n",
    "\n",
    "$\\sigma_{Y,X}$ es la covarianza de Y con respecto a X. Es la misma que la $\\sigma_{X,Y}$. Los elementos diagonales de la matriz de covarianza dan los valores de varianza para cada variable. Por ejemplo, $\\sigma_{X,X}$ es la varianza de X\n",
    "\n"
   ]
  },
  {
   "cell_type": "code",
   "execution_count": 3,
   "id": "2355c8c0-8fb9-4528-9c3a-d9fc658f8c10",
   "metadata": {},
   "outputs": [
    {
     "data": {
      "image/png": "[encoded data removed]",
      "text/plain": [
       "<IPython.core.display.Image object>"
      ]
     },
     "execution_count": 3,
     "metadata": {},
     "output_type": "execute_result"
    }
   ],
   "source": [
    "Image ('Matriz-varianza-covarianza-nxm.png')"
   ]
  },
  {
   "cell_type": "markdown",
   "id": "0a0fd1bb-019f-47ce-8dfe-c428041eb6c1",
   "metadata": {},
   "source": [
    "## Cómo calcular la Matriz de Covarianza \n",
    "\n",
    " **1.Calcular la covarianza de cada par de variables**\n",
    " \n",
    " Primero debemos hallar las varianzas de cada variables\n",
    " $$V_{1}:4,7,12,5,7$$\n",
    " $$V_{2}: 9,15,19,6,8$$\n",
    " $$V_{3}: 7,2,4,6,3$$\n",
    " $$V_{4}:1,2,3,4,5$$\n",
    " $$V_{5}:7,8,9,4,5$$\n",
    " \n",
    "\n",
    "$$\\sigma^{2}_{V_{1}}= 7.6 $$\n",
    "$$\\sigma^{2}_{V_{2}}= 23.44$$\n",
    "$$\\sigma^{2}_{V_{3}}= 3.44$$\n",
    "$$\\sigma^{2}_{V_{4}}=2 $$\n",
    "$$\\sigma^{2}_{V_{5}}=3.44 $$\n",
    " \n",
    "**2.Calcular la covarianza de cada par de variables**  \n",
    "\n",
    "\n",
    "$$\\sigma_{V_{1}, V_{2}}=11.2$$\n",
    "$$\\sigma_{V_{1}, V_{3}}=-2.6$$\n",
    "$$\\sigma_{V_{1}, V_{4}}=0.8$$\n",
    "$$\\sigma_{V_{1}, V_{5}}=3.2$$\n",
    "$$\\sigma_{V_{2}, V_{3}}=-4.36$$\n",
    "$$\\sigma_{V_{2}, V_{4}}=-2.2$$\n",
    "$$\\sigma_{V_{2}, V_{5}}=8.36$$\n",
    "$$\\sigma_{V_{3}, V_{4}}=.08$$\n",
    "$$\\sigma_{V_{3}, V_{5}}=-1.04$$\n",
    "$$\\sigma_{V_{4}, V_{5}}=-1.6$$\n",
    "\n",
    "**3.Formar la matriz de covarianza**\n",
    "\n",
    "\n",
    "\\begin{equation*}\n",
    "\\Sigma = \n",
    "\\begin{pmatrix}\n",
    "7.6 & 11.2 & -2.6 & 0.8 & 3.2 \\\\\n",
    "11.2 & 23.44 & -4.36 & -2.2 & 8.36 \\\\\n",
    "-2.6 & -4.36 & 3.44 & 0.08 & -1.04 \\\\\n",
    "0.8 & -2.2 & 0.08 & 2 & -1.6 \\\\\n",
    "3.2 & 8.36 & -1.04 & -1.6 & 3.44\n",
    "\\end{pmatrix}\n",
    "\\end{equation*}\n",
    "\n",
    "<font size=\"2\">(Vease apéndice para fórmulas utilizadas)</font>\n",
    "[apendice](#apendice)\n"
   ]
  },
  {
   "cell_type": "markdown",
   "id": "c789dd7f-960a-42a6-bb4d-7075de7df90e",
   "metadata": {
    "tags": []
   },
   "source": [
    "# Eigenvalores y Eigenvectores\n",
    "Let **A** sea una matriz de *nxm*. $\\lambda$ es un eigenvalor de **A** si hay un valor no-cero vector que satisface la siguiente ecuación. \n",
    "\n",
    "$$ Ax = \\lambda x $$\n",
    "\n",
    "El vector **x** es llamado eigenvector de **A** correspondiente a $\\lambda$  \n"
   ]
  },
  {
   "cell_type": "markdown",
   "id": "523f67f8-35b5-4a70-97a8-a4c619bd891a",
   "metadata": {},
   "source": [
    "De nuestro ejemplo, encontramos los eigenvalores y eigenvectores. \n",
    "\n",
    "El polinomio característico es\n",
    "$$\\lambda^{5}- 39.92\\lambda^{4} + 238.91 \\lambda^{3} - 381.18 \\lambda^{2} + 60.23 \\lambda - 0.68$$\n",
    "\n",
    "Los valores propios \n",
    "\n",
    "$$p(\\lambda) = \\pm (\\lambda^{5}- 39.92\\lambda^{4} + 238.91 \\lambda^{3} - 381.18 \\lambda^{2} + 60.23 \\lambda - 0.68)=0$$\n",
    "\n",
    "Con soluciones: \n",
    "\n",
    "\\begin{equation*}\n",
    "V_{\\lambda_{1}} = \n",
    "\\begin{pmatrix}\n",
    "-0.255\\\\\n",
    "-0.200\\\\\n",
    "-0.160\\\\\n",
    "0.693\\\\\n",
    "1\n",
    "\\end{pmatrix}\n",
    "\\end{equation*}\n",
    "\n",
    "Con $\\lambda_{1} \\approx 0.012$\n",
    "\n",
    "\n",
    "\\begin{equation*}\n",
    "V_{\\lambda_{2}} = \n",
    "\\begin{pmatrix}\n",
    "1.521\\\\\n",
    "-1.223\\\\\n",
    "-0.072\\\\\n",
    "-1.253\\\\\n",
    "1\n",
    "\\end{pmatrix}\n",
    "\\end{equation*}\n",
    "\n",
    "Con $\\lambda_{2} \\approx 0.163$\n",
    "\n",
    "\\begin{equation*}\n",
    "V_{\\lambda_{3}} = \n",
    "\\begin{pmatrix}\n",
    "5.972\\\\\n",
    "1.182\\\\\n",
    "20.075\\\\\n",
    "5.733\\\\\n",
    "1\n",
    "\\end{pmatrix}\n",
    "\\end{equation*}\n",
    "\n",
    "Con $\\lambda_{3} \\approx 2.381$\n",
    "\n",
    "\\begin{equation*}\n",
    "V_{\\lambda_{4}} = \n",
    "\\begin{pmatrix}\n",
    "-1.596\\\\\n",
    "0.504\\\\\n",
    "0.876\\\\\n",
    "-1.682\\\\\n",
    "1\n",
    "\\end{pmatrix}\n",
    "\\end{equation*}\n",
    "\n",
    "Con $\\lambda_{4} \\approx 4.328$\n",
    "\n",
    "\\begin{equation*}\n",
    "V_{\\lambda_{5}} = \n",
    "\\begin{pmatrix}\n",
    "1.444\\\\\n",
    "2.873\\\\\n",
    "-0.586\\\\\n",
    "-0.129\\\\\n",
    "1\n",
    "\\end{pmatrix}\n",
    "\\end{equation*}\n",
    "\n",
    "Con $\\lambda_{5} \\approx 33.036$\n",
    "\n",
    "<font size=\"2\">(Vease apéndice para fórmulas utilizadas)</font>\n",
    "[apendice](#apendice)\n",
    "\n"
   ]
  },
  {
   "cell_type": "markdown",
   "id": "07a9d50f-b402-46de-b391-8c6bbfb40d08",
   "metadata": {},
   "source": [
    "seleccion de cp "
   ]
  },
  {
   "cell_type": "markdown",
   "id": "b6c5d01d-f8f0-444e-a845-ec64d88ce798",
   "metadata": {},
   "source": [
    "matriz ordenada "
   ]
  },
  {
   "cell_type": "markdown",
   "id": "c3cd0eed-3c69-42f3-b46c-cc3510fb7edb",
   "metadata": {},
   "source": [
    "ploteo "
   ]
  },
  {
   "cell_type": "markdown",
   "id": "6f0cf4c1-df02-4753-915b-dabcc6039625",
   "metadata": {},
   "source": [
    "# Pasos a seguir para realizar un análisis PCA "
   ]
  },
  {
   "cell_type": "markdown",
   "id": "37c5763b-41ad-4b2e-a10f-e0cfe1a9a8ec",
   "metadata": {},
   "source": [
    "**1.Importar librerias y preparacion de los datos**\n",
    "Obtenemos nuestros datos en una matriz númerica, estos deben estar aptos para el análisis. \n",
    "\n",
    "\n",
    "**2.Obtener la matriz de covarizanza o correlación**\n",
    "Dependiendo de la escala calcular la matriz de covarianza o correlación teniendo en cuenta las relaciones lineales.\n",
    "\n",
    "\n",
    "**3.Obtencion de autovalores y autovectores**\n",
    "Los autovalores obtenidos representan la varianza explicada por cada componente principal. \n",
    "Los autovectores representan las direcciones en el espacio original es las cuales se maximiza la varianza de los datos.\n",
    "\n",
    "\n",
    "**4.Seleccion de componentes principales**\n",
    "Ordena los autovalores de mayor a menor y selecciona los primeros k autovalores que representen la mayor cantidad de varianza explicada que deseas retener en tu análisis. \n",
    "\n",
    "\n",
    "\n",
    "**5.Proyección de datos en el espacio de componentes principales**\n",
    "   Utilizando los autovectores correspondientes a los k autovalores seleccionados para proyectar tus datos originales en el espacio de componentes principales.\n",
    "   \n",
    "   \n",
    "**6.Interpretación de los resultados**\n",
    "Se puede realizar una visualización de los datos obtenidos en el espacio de componentes principales. \n"
   ]
  },
  {
   "cell_type": "markdown",
   "id": "ff5b65b1-970a-4672-96f6-8b738880ca21",
   "metadata": {},
   "source": [
    "<a id='apendice'></a>\n",
    "# APÉNDICE \n",
    "\n",
    "\n",
    "**Varianza para una población**\n",
    "$$\\sigma^2 = \\frac{\\sum\\limits_{i=1}^{n}(x_i - \\mu)^2} {N} $$\n",
    "\n",
    "**Covarianza entre dos variables** \n",
    "\n",
    "$$\\sigma_{x,y}=\\frac{\\sum_{i=1}^{N}(x_{i}-\\mu_{x})(y_{i}-\\mu_{y})}{N-1}$$\n",
    "\n",
    "**Matriz de covarianzas**\n",
    "\n",
    "\n",
    "\\begin{equation*}\n",
    "\\Sigma = \n",
    "\\begin{pmatrix}\n",
    "\\sigma^{2}_{1,1} & \\sigma_{1,2} & \\cdots & \\sigma_{1,m} \\\\\n",
    "\\sigma_{2,1} & \\sigma^{2}_{2,2} & \\cdots & \\sigma_{2,m} \\\\\n",
    "\\vdots  & \\vdots  & \\ddots & \\vdots  \\\\\n",
    "\\sigma_{n,1} & \\sigma_{n,2} & \\cdots & \\sigma^{2}_{n,m} \n",
    "\\end{pmatrix}\n",
    "\\end{equation*}\n",
    "\n",
    "**Cálculo de valores propios**\n",
    "\n",
    "$$det(A- \\lambda I)= 0$$\n",
    "\n",
    "**Polinomio característico de A**\n",
    "$$p(\\lambda) = det (A- \\lambda I) $$\n",
    "\n",
    "Todos los valores propios de una matriz A pueden calcularse resolviendo la ecuación \n",
    "$$p_{A}(\\lambda)=0$$\n",
    "\n",
    "Si *A* es una matriz de *nxm*, entonces $p_{A}$ tiene grado *n* y tiene como máximo *n* valores propios. \n",
    "\n",
    "**Cálculo de los vectores propios**\n",
    "\n",
    "Una vez que se conocen los valores propios $\\lambda$, los vectores propios se pueden hallar resolviendo el sistema de ecuaciones homogéneo:\n",
    "\n",
    "$$(A- \\lambda I)v= 0$$\n",
    "\n",
    "Una forma más sencilla de obtener vectores propios sin resolver un sistema de ecuaciones lineales se basa en el teorema de Cayley-Hamilton$^{[1]}$ que establece que cada matriz cuadrada satisface su propio polinomio característico. Así, si $\\lambda _{1},\\lambda _{2},...,\\lambda _{n}$ son los valores propios de A se cumple que \n",
    "\n",
    "$$(A- \\lambda_{1} I)(A- \\lambda_{2} I) \\cdots (A- \\lambda_{n} I)v= 0$$\n",
    "\n",
    "por lo que los vectores columna de $(A- \\lambda_{2} I) \\cdots (A- \\lambda_{n})$ son vectores propios de $\\lambda_{1}$ "
   ]
  },
  {
   "cell_type": "markdown",
   "id": "9be3fc81-1b56-487c-8bf7-d57b335ea58d",
   "metadata": {},
   "source": [
    "## Referencias"
   ]
  },
  {
   "cell_type": "markdown",
   "id": "64c84ff5-b989-4066-b659-1257e38537ba",
   "metadata": {},
   "source": [
    "[1] Bronson, R., & Costa, G. B. (2020). Matrix Methods: Applied Linear Algebra and Sabermetrics. Academic Press."
   ]
  },
  {
   "cell_type": "code",
   "execution_count": null,
   "id": "a7771696-f4c4-491e-b395-983acce358df",
   "metadata": {},
   "outputs": [],
   "source": []
  }
 ],
 "metadata": {
  "kernelspec": {
   "display_name": "Python 3 (ipykernel)",
   "language": "python",
   "name": "python3"
  },
  "language_info": {
   "codemirror_mode": {
    "name": "ipython",
    "version": 3
   },
   "file_extension": ".py",
   "mimetype": "text/x-python",
   "name": "python",
   "nbconvert_exporter": "python",
   "pygments_lexer": "ipython3",
   "version": "3.10.6"
  }
 },
 "nbformat": 4,
 "nbformat_minor": 5
}
