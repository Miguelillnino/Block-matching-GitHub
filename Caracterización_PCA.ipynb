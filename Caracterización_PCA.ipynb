{
 "cells": [
  {
   "cell_type": "code",
   "execution_count": 1,
   "id": "0eb7c12b-f3e0-44d7-ae99-4489f1296454",
   "metadata": {},
   "outputs": [],
   "source": [
    "from os import listdir\n",
    "from os.path import isfile, join\n",
    "import numpy\n",
    "import cv2\n",
    "from matplotlib import pyplot as plt\n",
    "import pandas as pd\n",
    "import statistics\n",
    "import matplotlib.pyplot as plt\n",
    "from scipy.stats import kurtosis,skew,entropy\n",
    "from skimage.feature import graycomatrix, graycoprops\n",
    "import os  \n",
    "import seaborn as sns #Biblioteca para plotear datos con plantillas específicas.\n",
    "from sklearn.cluster import KMeans\n",
    "\n",
    "import numpy as np\n",
    "import matplotlib.pyplot as plt\n",
    "from sklearn.datasets import make_swiss_roll\n",
    "from mpl_toolkits.mplot3d import Axes3D\n",
    "\n",
    "plt.style.use('ggplot')"
   ]
  },
  {
   "cell_type": "code",
   "execution_count": 2,
   "id": "5d904235-83b1-4db5-a01b-22b1b46ef4ae",
   "metadata": {},
   "outputs": [],
   "source": [
    "#Funcion que recibe la ruta de un directorio con imágenes y el número de etiqueta de las imágenes (Lesion:1 y No lesion:0)\n",
    "def ImagesToDataFrame(pathFiles):\n",
    "    dh1 = pd.DataFrame(columns=['Mean', 'Variance', 'StD', 'Kurtosis', 'Max', 'Min', 'Skewness', 'Entropy', 'Constrast', 'Correlation', 'Energy', 'Homogeneity','Name'], dtype='float64')\n",
    "\n",
    "    onlyfiles = [ f for f in listdir(pathFiles) if isfile(join(pathFiles,f)) ]\n",
    "    images = numpy.empty(len(onlyfiles), dtype=object)\n",
    "    for n in range(0, len(onlyfiles)):\n",
    "    #     print(join(pathFiles,onlyfiles[n]))\n",
    "        images[n] = cv2.imread(join(pathFiles,onlyfiles[n]) )\n",
    "        names = onlyfiles[n]\n",
    "        name = names[0:5]\n",
    "        ######################################\n",
    "        ######################################\n",
    "        # Se Binariza la imagen \n",
    "        ######################################\n",
    "        ######################################\n",
    "        grayImage = cv2.cvtColor(images[n], cv2.COLOR_BGR2GRAY)\n",
    "        Rasgos = grayImage.ravel() \n",
    "        Rasgos_no_ceros = [] \n",
    "        for index in Rasgos:\n",
    "            Rasgos_no_ceros.append(index)\n",
    "        #print(Rasgos_no_ceros)\n",
    "        Mean = grayImage.mean()\n",
    "        Variance = grayImage.var()\n",
    "        StD = grayImage.std()\n",
    "        Skewness = skew(Rasgos_no_ceros)\n",
    "        Kurtosis = kurtosis(Rasgos_no_ceros)\n",
    "        Max = grayImage.max()\n",
    "        Min = grayImage.min()\n",
    "        #Skewness = sesgo(grayImage)\n",
    "        Entropy = entropy(Rasgos_no_ceros)\n",
    "        ######################################\n",
    "        ######################################\n",
    "        # Se determina la estadistica de segundo orden y se añaden a su lista correspondiente\n",
    "        ######################################\n",
    "        ######################################      \n",
    "        #grayImageCrop = cv2.cvtColor(grayImage, cv2.COLOR_BGR2GRAY)\n",
    "        glcm = graycomatrix(grayImage, [1], [0], 256, symmetric=True, normed=True)\n",
    "        contrast = graycoprops(glcm, 'contrast')[0, 0]\n",
    "        correlation = graycoprops(glcm, 'correlation')[0, 0]\n",
    "        energy = graycoprops(glcm, 'energy')[0, 0]\n",
    "        homogeneity = graycoprops(glcm, 'homogeneity')[0, 0]\n",
    "        auxi = [Mean, Variance, StD, Kurtosis, int(Max), int(Min), Skewness, Entropy, contrast, correlation, energy, homogeneity, name]\n",
    "        dh2 = pd.DataFrame([auxi], columns=['Mean', 'Variance', 'StD', 'Kurtosis', 'Max', 'Min', 'Skewness', 'Entropy', 'Constrast', 'Correlation', 'Energy', 'Homogeneity','Name'])\n",
    "        dh1= pd.concat([dh1, dh2], ignore_index=True)\n",
    "        #listLabel.append(label)\n",
    "        #plt.subplot(1,1,1),plt.imshow(grayImage,'gray')\n",
    "        #plt.show()\n",
    "    \n",
    "#     print(dataFrame)\n",
    "    return(dh1)\n",
    "#PSA Y SHIFT\n"
   ]
  },
  {
   "cell_type": "code",
   "execution_count": 3,
   "id": "b20361a5-887d-48bc-9263-2e02c5b34ec6",
   "metadata": {},
   "outputs": [
    {
     "name": "stdout",
     "output_type": "stream",
     "text": [
      "         Mean     Variance        StD  Kurtosis    Max   Min  Skewness  \\\n",
      "0  179.178909  2154.067151  46.411929  0.710867  231.0  16.0 -1.356673   \n",
      "1  129.707966  2178.757119  46.677158  0.199536  255.0   0.0 -0.857302   \n",
      "2  129.614513  1790.426813  42.313435 -0.643059  231.0   0.0 -0.307061   \n",
      "3  124.042511  2290.158280  47.855598 -0.844778  245.0  25.0 -0.082959   \n",
      "4  161.436714  2301.295884  47.971824  0.406794  236.0   8.0 -0.989403   \n",
      "5  120.216423  2902.978941  53.879300 -0.878439  228.0   0.0 -0.240168   \n",
      "6  180.571754  1555.860849  39.444402  2.474082  255.0  12.0 -1.533050   \n",
      "7  108.238628   583.186743  24.149260  1.909872  235.0   1.0 -0.963135   \n",
      "8  113.801506  2995.948736  54.735260 -0.442405  255.0   0.0  0.450963   \n",
      "\n",
      "     Entropy   Constrast  Correlation    Energy  Homogeneity   Name  \n",
      "0  12.436719  144.788711     0.966298  0.042457     0.322375  F-16_  \n",
      "1  12.397021  269.678193     0.938114  0.018775     0.152339  boat_  \n",
      "2  12.418282  478.025459     0.866542  0.011308     0.092206  Baboo  \n",
      "3  12.396611  128.540202     0.971925  0.018013     0.215433  lena_  \n",
      "4  12.424002  234.867524     0.948465  0.034284     0.299447  house  \n",
      "5  12.360330  134.649362     0.976766  0.016145     0.182343  Peppe  \n",
      "6  12.448261  308.785118     0.900768  0.023770     0.208388  Aeria  \n",
      "7  12.448056  132.769168     0.886233  0.029696     0.131826  tank_  \n",
      "8  12.356950  357.228760     0.940412  0.044406     0.218449  Bridg  \n"
     ]
    }
   ],
   "source": [
    "pathFiles= '../Alejandro_Proyectos/Imagenes Originales Gris'\n",
    "\n",
    "df = ImagesToDataFrame(pathFiles)\n",
    "print(df)"
   ]
  },
  {
   "cell_type": "code",
   "execution_count": 4,
   "id": "bdd73630-55e9-4ca0-a997-ad5efaea8127",
   "metadata": {},
   "outputs": [
    {
     "data": {
      "text/plain": [
       "array(['Mean', 'Variance', 'StD', 'Kurtosis', 'Max', 'Min', 'Skewness',\n",
       "       'Entropy', 'Constrast', 'Correlation', 'Energy', 'Homogeneity'],\n",
       "      dtype=object)"
      ]
     },
     "execution_count": 4,
     "metadata": {},
     "output_type": "execute_result"
    }
   ],
   "source": [
    "df_NoName =df[['Mean', 'Variance', 'StD', 'Kurtosis', 'Max', 'Min', 'Skewness', 'Entropy', 'Constrast', 'Correlation', 'Energy', 'Homogeneity']]\n",
    "X_cols= df_NoName.columns.values \n",
    "X_cols"
   ]
  },
  {
   "cell_type": "code",
   "execution_count": 5,
   "id": "1966dc68-2d36-4150-a315-c363a65c9111",
   "metadata": {},
   "outputs": [
    {
     "data": {
      "text/plain": [
       "array([[ 1.79178909e+02,  2.15406715e+03,  4.64119290e+01,\n",
       "         7.10867150e-01,  2.31000000e+02,  1.60000000e+01,\n",
       "        -1.35667292e+00,  1.24367193e+01,  1.44788711e+02,\n",
       "         9.66297970e-01,  4.24568873e-02,  3.22374563e-01],\n",
       "       [ 1.29707966e+02,  2.17875712e+03,  4.66771584e+01,\n",
       "         1.99535815e-01,  2.55000000e+02,  0.00000000e+00,\n",
       "        -8.57302427e-01,  1.23970207e+01,  2.69678193e+02,\n",
       "         9.38113732e-01,  1.87752927e-02,  1.52339231e-01],\n",
       "       [ 1.29614513e+02,  1.79042681e+03,  4.23134354e+01,\n",
       "        -6.43058538e-01,  2.31000000e+02,  0.00000000e+00,\n",
       "        -3.07060852e-01,  1.24182822e+01,  4.78025459e+02,\n",
       "         8.66541966e-01,  1.13083134e-02,  9.22055630e-02],\n",
       "       [ 1.24042511e+02,  2.29015828e+03,  4.78555982e+01,\n",
       "        -8.44778272e-01,  2.45000000e+02,  2.50000000e+01,\n",
       "        -8.29590570e-02,  1.23966115e+01,  1.28540202e+02,\n",
       "         9.71925332e-01,  1.80132846e-02,  2.15432657e-01],\n",
       "       [ 1.61436714e+02,  2.30129588e+03,  4.79718239e+01,\n",
       "         4.06794091e-01,  2.36000000e+02,  8.00000000e+00,\n",
       "        -9.89403341e-01,  1.24240024e+01,  2.34867524e+02,\n",
       "         9.48464610e-01,  3.42843736e-02,  2.99446619e-01],\n",
       "       [ 1.20216423e+02,  2.90297894e+03,  5.38792997e+01,\n",
       "        -8.78439186e-01,  2.28000000e+02,  0.00000000e+00,\n",
       "        -2.40168116e-01,  1.23603298e+01,  1.34649362e+02,\n",
       "         9.76765719e-01,  1.61450711e-02,  1.82343267e-01],\n",
       "       [ 1.80571754e+02,  1.55586085e+03,  3.94444020e+01,\n",
       "         2.47408181e+00,  2.55000000e+02,  1.20000000e+01,\n",
       "        -1.53304960e+00,  1.24482612e+01,  3.08785118e+02,\n",
       "         9.00767525e-01,  2.37699833e-02,  2.08387827e-01],\n",
       "       [ 1.08238628e+02,  5.83186743e+02,  2.41492597e+01,\n",
       "         1.90987159e+00,  2.35000000e+02,  1.00000000e+00,\n",
       "        -9.63135490e-01,  1.24480563e+01,  1.32769168e+02,\n",
       "         8.86232625e-01,  2.96963948e-02,  1.31826006e-01],\n",
       "       [ 1.13801506e+02,  2.99594874e+03,  5.47352604e+01,\n",
       "        -4.42404574e-01,  2.55000000e+02,  0.00000000e+00,\n",
       "         4.50962662e-01,  1.23569496e+01,  3.57228760e+02,\n",
       "         9.40412482e-01,  4.44057803e-02,  2.18449181e-01]])"
      ]
     },
     "execution_count": 5,
     "metadata": {},
     "output_type": "execute_result"
    }
   ],
   "source": [
    "X = df_NoName.values[0:12]\n",
    "X.shape\n",
    "X"
   ]
  },
  {
   "cell_type": "code",
   "execution_count": 6,
   "id": "f038ee09-08f7-47a4-b2a3-c9a632c8c4ce",
   "metadata": {},
   "outputs": [],
   "source": [
    "from sklearn.preprocessing import StandardScaler\n",
    "sc = StandardScaler()\n",
    "sc.fit(X)\n",
    "X_scaled = sc.transform(X)\n"
   ]
  },
  {
   "cell_type": "code",
   "execution_count": 7,
   "id": "47ddf42b-594c-4126-a085-e15084750f5f",
   "metadata": {},
   "outputs": [
    {
     "data": {
      "text/plain": [
       "(12, 12)"
      ]
     },
     "execution_count": 7,
     "metadata": {},
     "output_type": "execute_result"
    }
   ],
   "source": [
    "cov_m = np.cov(X_scaled.T)\n",
    "cov_m.shape"
   ]
  },
  {
   "cell_type": "code",
   "execution_count": 8,
   "id": "e3c1e7b3-d573-4d2d-9b44-6800a193a92b",
   "metadata": {},
   "outputs": [],
   "source": [
    "eigenvalues, eigenvectors= np.linalg.eig(cov_m)"
   ]
  },
  {
   "cell_type": "code",
   "execution_count": 9,
   "id": "7b29e126-864a-42a9-b8ba-0d861a414792",
   "metadata": {},
   "outputs": [],
   "source": [
    "eigenvalues\n",
    "real_evalues=eigenvalues.real\n",
    "\n",
    "\n",
    "\n"
   ]
  },
  {
   "cell_type": "code",
   "execution_count": 10,
   "id": "8dc429f3-2a00-430c-932b-f3a2e10f0bbf",
   "metadata": {},
   "outputs": [
    {
     "data": {
      "text/plain": [
       "(12,)"
      ]
     },
     "execution_count": 10,
     "metadata": {},
     "output_type": "execute_result"
    }
   ],
   "source": [
    "real_evalues.shape"
   ]
  },
  {
   "cell_type": "code",
   "execution_count": 11,
   "id": "c4d4acbd-28d2-4e87-9075-77dd6e2a69ca",
   "metadata": {},
   "outputs": [
    {
     "data": {
      "text/plain": [
       "(12, 12)"
      ]
     },
     "execution_count": 11,
     "metadata": {},
     "output_type": "execute_result"
    }
   ],
   "source": [
    "eigenvectors.shape\n"
   ]
  },
  {
   "cell_type": "code",
   "execution_count": 12,
   "id": "1c7d026b-06f7-4310-b020-1716fce0c3c1",
   "metadata": {},
   "outputs": [],
   "source": [
    "eigenvectors = eigenvectors.T\n"
   ]
  },
  {
   "cell_type": "code",
   "execution_count": 13,
   "id": "4aa29d40-4602-49a3-afcb-04eb21426361",
   "metadata": {},
   "outputs": [],
   "source": [
    "eigenvectors[0, :]\n",
    "real_evectors=eigenvectors.real\n"
   ]
  },
  {
   "cell_type": "code",
   "execution_count": 14,
   "id": "68f9d01d-6ce7-43c1-ae55-e35856764540",
   "metadata": {},
   "outputs": [
    {
     "data": {
      "text/plain": [
       "array([0.38268935, 0.66124035, 0.78732602, 0.87242535, 0.94850401,\n",
       "       0.99282225, 0.9982755 , 1.        , 1.        , 1.        ,\n",
       "       1.        , 1.        ])"
      ]
     },
     "execution_count": 14,
     "metadata": {},
     "output_type": "execute_result"
    }
   ],
   "source": [
    "eigenvalues = np.cumsum(real_evalues)\n",
    "eigenvalues /= eigenvalues.max()\n",
    "eigenvalues\n",
    "eigenvalues.real\n",
    "\n"
   ]
  },
  {
   "cell_type": "code",
   "execution_count": 15,
   "id": "c51a0f93-9d1a-4660-aa54-73879ee57222",
   "metadata": {},
   "outputs": [
    {
     "data": {
      "text/plain": [
       "(10, 12)"
      ]
     },
     "execution_count": 15,
     "metadata": {},
     "output_type": "execute_result"
    }
   ],
   "source": [
    "p = real_evectors[0:10, :]\n",
    "p.shape"
   ]
  },
  {
   "cell_type": "code",
   "execution_count": 16,
   "id": "8eaf6850-445a-4792-bfc0-8582b1c13790",
   "metadata": {},
   "outputs": [
    {
     "data": {
      "text/plain": [
       "(10, 9)"
      ]
     },
     "execution_count": 16,
     "metadata": {},
     "output_type": "execute_result"
    }
   ],
   "source": [
    "data_new = np.dot(p, X_scaled.T)\n",
    "data_new.shape"
   ]
  },
  {
   "cell_type": "code",
   "execution_count": 17,
   "id": "0143ffde-61be-41ff-94f2-ee0363a58793",
   "metadata": {},
   "outputs": [
    {
     "data": {
      "text/plain": [
       "(9, 10)"
      ]
     },
     "execution_count": 17,
     "metadata": {},
     "output_type": "execute_result"
    }
   ],
   "source": [
    "data_new = data_new.T\n",
    "data_new.shape"
   ]
  },
  {
   "cell_type": "code",
   "execution_count": 25,
   "id": "30408b91-7f6c-4792-9f7e-03827bdf1a58",
   "metadata": {},
   "outputs": [
    {
     "data": {
      "text/html": [
       "<div>\n",
       "<style scoped>\n",
       "    .dataframe tbody tr th:only-of-type {\n",
       "        vertical-align: middle;\n",
       "    }\n",
       "\n",
       "    .dataframe tbody tr th {\n",
       "        vertical-align: top;\n",
       "    }\n",
       "\n",
       "    .dataframe thead th {\n",
       "        text-align: right;\n",
       "    }\n",
       "</style>\n",
       "<table border=\"1\" class=\"dataframe\">\n",
       "  <thead>\n",
       "    <tr style=\"text-align: right;\">\n",
       "      <th></th>\n",
       "      <th>PC1</th>\n",
       "      <th>PC2</th>\n",
       "      <th>PC3</th>\n",
       "      <th>PC4</th>\n",
       "      <th>PC5</th>\n",
       "      <th>PC6</th>\n",
       "      <th>PC7</th>\n",
       "      <th>PC8</th>\n",
       "      <th>PC9</th>\n",
       "      <th>PC10</th>\n",
       "    </tr>\n",
       "  </thead>\n",
       "  <tbody>\n",
       "    <tr>\n",
       "      <th>0</th>\n",
       "      <td>-0.886118</td>\n",
       "      <td>3.335905</td>\n",
       "      <td>0.298674</td>\n",
       "      <td>0.102103</td>\n",
       "      <td>-0.968305</td>\n",
       "      <td>0.290655</td>\n",
       "      <td>0.109782</td>\n",
       "      <td>-0.251666</td>\n",
       "      <td>5.204147e-15</td>\n",
       "      <td>-1.910405e-14</td>\n",
       "    </tr>\n",
       "    <tr>\n",
       "      <th>1</th>\n",
       "      <td>0.384937</td>\n",
       "      <td>-0.957597</td>\n",
       "      <td>-0.670796</td>\n",
       "      <td>-0.002250</td>\n",
       "      <td>0.824324</td>\n",
       "      <td>-1.167856</td>\n",
       "      <td>0.502652</td>\n",
       "      <td>-0.068406</td>\n",
       "      <td>6.009831e-15</td>\n",
       "      <td>-1.927971e-14</td>\n",
       "    </tr>\n",
       "    <tr>\n",
       "      <th>2</th>\n",
       "      <td>-0.330691</td>\n",
       "      <td>-3.221637</td>\n",
       "      <td>-0.251028</td>\n",
       "      <td>1.643726</td>\n",
       "      <td>-0.896931</td>\n",
       "      <td>0.784888</td>\n",
       "      <td>0.048742</td>\n",
       "      <td>-0.047241</td>\n",
       "      <td>6.080764e-15</td>\n",
       "      <td>-2.036120e-14</td>\n",
       "    </tr>\n",
       "    <tr>\n",
       "      <th>3</th>\n",
       "      <td>1.564160</td>\n",
       "      <td>0.875640</td>\n",
       "      <td>1.365377</td>\n",
       "      <td>0.455051</td>\n",
       "      <td>1.923375</td>\n",
       "      <td>0.947732</td>\n",
       "      <td>0.023504</td>\n",
       "      <td>0.033259</td>\n",
       "      <td>6.122120e-15</td>\n",
       "      <td>-1.996729e-14</td>\n",
       "    </tr>\n",
       "    <tr>\n",
       "      <th>4</th>\n",
       "      <td>-0.159834</td>\n",
       "      <td>1.785124</td>\n",
       "      <td>-0.278864</td>\n",
       "      <td>0.198421</td>\n",
       "      <td>-0.920718</td>\n",
       "      <td>0.045504</td>\n",
       "      <td>0.188221</td>\n",
       "      <td>0.336671</td>\n",
       "      <td>7.586096e-15</td>\n",
       "      <td>-2.243913e-14</td>\n",
       "    </tr>\n",
       "  </tbody>\n",
       "</table>\n",
       "</div>"
      ],
      "text/plain": [
       "        PC1       PC2       PC3       PC4       PC5       PC6       PC7  \\\n",
       "0 -0.886118  3.335905  0.298674  0.102103 -0.968305  0.290655  0.109782   \n",
       "1  0.384937 -0.957597 -0.670796 -0.002250  0.824324 -1.167856  0.502652   \n",
       "2 -0.330691 -3.221637 -0.251028  1.643726 -0.896931  0.784888  0.048742   \n",
       "3  1.564160  0.875640  1.365377  0.455051  1.923375  0.947732  0.023504   \n",
       "4 -0.159834  1.785124 -0.278864  0.198421 -0.920718  0.045504  0.188221   \n",
       "\n",
       "        PC8           PC9          PC10  \n",
       "0 -0.251666  5.204147e-15 -1.910405e-14  \n",
       "1 -0.068406  6.009831e-15 -1.927971e-14  \n",
       "2 -0.047241  6.080764e-15 -2.036120e-14  \n",
       "3  0.033259  6.122120e-15 -1.996729e-14  \n",
       "4  0.336671  7.586096e-15 -2.243913e-14  "
      ]
     },
     "execution_count": 25,
     "metadata": {},
     "output_type": "execute_result"
    }
   ],
   "source": [
    "df_new = pd.DataFrame(data_new, columns = ['PC1', 'PC2', 'PC3', 'PC4', 'PC5', 'PC6', 'PC7', 'PC8','PC9', 'PC10'])\n",
    "df_new.head()\n",
    "\n",
    "\n"
   ]
  },
  {
   "cell_type": "code",
   "execution_count": 19,
   "id": "accaeb8c-3ce7-422c-9145-48aecd097dd0",
   "metadata": {},
   "outputs": [],
   "source": [
    "colum_label =['Plana', 'Intermedia', 'Textura','Plana', 'Intermedia', 'Plana', 'Intermedia', 'Plana', 'Intermedia']\n",
    "df_label = pd.DataFrame(list(zip(colum_label)),columns=['labels'])\n",
    "\n",
    "df_new_norm = pd.concat([df,df_label], axis = 1)\n"
   ]
  },
  {
   "cell_type": "code",
   "execution_count": 20,
   "id": "2eb6d4f0-8cdb-4d43-bd00-104f06d746fb",
   "metadata": {},
   "outputs": [
    {
     "data": {
      "text/html": [
       "<div>\n",
       "<style scoped>\n",
       "    .dataframe tbody tr th:only-of-type {\n",
       "        vertical-align: middle;\n",
       "    }\n",
       "\n",
       "    .dataframe tbody tr th {\n",
       "        vertical-align: top;\n",
       "    }\n",
       "\n",
       "    .dataframe thead th {\n",
       "        text-align: right;\n",
       "    }\n",
       "</style>\n",
       "<table border=\"1\" class=\"dataframe\">\n",
       "  <thead>\n",
       "    <tr style=\"text-align: right;\">\n",
       "      <th></th>\n",
       "      <th>Mean</th>\n",
       "      <th>Variance</th>\n",
       "      <th>StD</th>\n",
       "      <th>Kurtosis</th>\n",
       "      <th>Max</th>\n",
       "      <th>Min</th>\n",
       "      <th>Skewness</th>\n",
       "      <th>Entropy</th>\n",
       "      <th>Constrast</th>\n",
       "      <th>Correlation</th>\n",
       "      <th>Energy</th>\n",
       "      <th>Homogeneity</th>\n",
       "      <th>Name</th>\n",
       "      <th>labels</th>\n",
       "    </tr>\n",
       "  </thead>\n",
       "  <tbody>\n",
       "    <tr>\n",
       "      <th>0</th>\n",
       "      <td>179.178909</td>\n",
       "      <td>2154.067151</td>\n",
       "      <td>46.411929</td>\n",
       "      <td>0.710867</td>\n",
       "      <td>231.0</td>\n",
       "      <td>16.0</td>\n",
       "      <td>-1.356673</td>\n",
       "      <td>12.436719</td>\n",
       "      <td>144.788711</td>\n",
       "      <td>0.966298</td>\n",
       "      <td>0.042457</td>\n",
       "      <td>0.322375</td>\n",
       "      <td>F-16_</td>\n",
       "      <td>Plana</td>\n",
       "    </tr>\n",
       "    <tr>\n",
       "      <th>1</th>\n",
       "      <td>129.707966</td>\n",
       "      <td>2178.757119</td>\n",
       "      <td>46.677158</td>\n",
       "      <td>0.199536</td>\n",
       "      <td>255.0</td>\n",
       "      <td>0.0</td>\n",
       "      <td>-0.857302</td>\n",
       "      <td>12.397021</td>\n",
       "      <td>269.678193</td>\n",
       "      <td>0.938114</td>\n",
       "      <td>0.018775</td>\n",
       "      <td>0.152339</td>\n",
       "      <td>boat_</td>\n",
       "      <td>Intermedia</td>\n",
       "    </tr>\n",
       "    <tr>\n",
       "      <th>2</th>\n",
       "      <td>129.614513</td>\n",
       "      <td>1790.426813</td>\n",
       "      <td>42.313435</td>\n",
       "      <td>-0.643059</td>\n",
       "      <td>231.0</td>\n",
       "      <td>0.0</td>\n",
       "      <td>-0.307061</td>\n",
       "      <td>12.418282</td>\n",
       "      <td>478.025459</td>\n",
       "      <td>0.866542</td>\n",
       "      <td>0.011308</td>\n",
       "      <td>0.092206</td>\n",
       "      <td>Baboo</td>\n",
       "      <td>Textura</td>\n",
       "    </tr>\n",
       "    <tr>\n",
       "      <th>3</th>\n",
       "      <td>124.042511</td>\n",
       "      <td>2290.158280</td>\n",
       "      <td>47.855598</td>\n",
       "      <td>-0.844778</td>\n",
       "      <td>245.0</td>\n",
       "      <td>25.0</td>\n",
       "      <td>-0.082959</td>\n",
       "      <td>12.396611</td>\n",
       "      <td>128.540202</td>\n",
       "      <td>0.971925</td>\n",
       "      <td>0.018013</td>\n",
       "      <td>0.215433</td>\n",
       "      <td>lena_</td>\n",
       "      <td>Plana</td>\n",
       "    </tr>\n",
       "    <tr>\n",
       "      <th>4</th>\n",
       "      <td>161.436714</td>\n",
       "      <td>2301.295884</td>\n",
       "      <td>47.971824</td>\n",
       "      <td>0.406794</td>\n",
       "      <td>236.0</td>\n",
       "      <td>8.0</td>\n",
       "      <td>-0.989403</td>\n",
       "      <td>12.424002</td>\n",
       "      <td>234.867524</td>\n",
       "      <td>0.948465</td>\n",
       "      <td>0.034284</td>\n",
       "      <td>0.299447</td>\n",
       "      <td>house</td>\n",
       "      <td>Intermedia</td>\n",
       "    </tr>\n",
       "  </tbody>\n",
       "</table>\n",
       "</div>"
      ],
      "text/plain": [
       "         Mean     Variance        StD  Kurtosis    Max   Min  Skewness  \\\n",
       "0  179.178909  2154.067151  46.411929  0.710867  231.0  16.0 -1.356673   \n",
       "1  129.707966  2178.757119  46.677158  0.199536  255.0   0.0 -0.857302   \n",
       "2  129.614513  1790.426813  42.313435 -0.643059  231.0   0.0 -0.307061   \n",
       "3  124.042511  2290.158280  47.855598 -0.844778  245.0  25.0 -0.082959   \n",
       "4  161.436714  2301.295884  47.971824  0.406794  236.0   8.0 -0.989403   \n",
       "\n",
       "     Entropy   Constrast  Correlation    Energy  Homogeneity   Name  \\\n",
       "0  12.436719  144.788711     0.966298  0.042457     0.322375  F-16_   \n",
       "1  12.397021  269.678193     0.938114  0.018775     0.152339  boat_   \n",
       "2  12.418282  478.025459     0.866542  0.011308     0.092206  Baboo   \n",
       "3  12.396611  128.540202     0.971925  0.018013     0.215433  lena_   \n",
       "4  12.424002  234.867524     0.948465  0.034284     0.299447  house   \n",
       "\n",
       "       labels  \n",
       "0       Plana  \n",
       "1  Intermedia  \n",
       "2     Textura  \n",
       "3       Plana  \n",
       "4  Intermedia  "
      ]
     },
     "execution_count": 20,
     "metadata": {},
     "output_type": "execute_result"
    }
   ],
   "source": [
    "df_new_norm.head()"
   ]
  },
  {
   "cell_type": "markdown",
   "id": "b1596768-2863-4620-a570-53d18362eaad",
   "metadata": {},
   "source": [
    "## Ploteo en 2-D\n"
   ]
  },
  {
   "cell_type": "code",
   "execution_count": 23,
   "id": "fb87a180-20bd-442d-9e9f-a5e5fe41d6df",
   "metadata": {},
   "outputs": [],
   "source": [
    "import seaborn as sns \n",
    "import matplotlib.pyplot as plt\n"
   ]
  },
  {
   "cell_type": "code",
   "execution_count": 24,
   "id": "1e8dce8b-a2f0-4517-b980-1d83c515f8da",
   "metadata": {},
   "outputs": [
    {
     "data": {
      "text/plain": [
       "<AxesSubplot:xlabel='PC1', ylabel='PC2'>"
      ]
     },
     "execution_count": 24,
     "metadata": {},
     "output_type": "execute_result"
    },
    {
     "data": {
      "image/png": "[encoded data removed]",
      "text/plain": [
       "<Figure size 432x288 with 1 Axes>"
      ]
     },
     "metadata": {
      "needs_background": "light"
     },
     "output_type": "display_data"
    }
   ],
   "source": [
    "label_1= pd.DataFrame(data=df_new_norm.labels)\n",
    "df_new1 = pd.concat([df_new,label_1], axis=1, join=\"inner\")\n",
    "\n",
    "sns.scatterplot(x='PC1', y='PC2', hue='labels', data=df_new1)"
   ]
  },
  {
   "cell_type": "code",
   "execution_count": null,
   "id": "3a37f002-fbc2-4641-a2d9-a7847802c1e1",
   "metadata": {},
   "outputs": [],
   "source": []
  },
  {
   "cell_type": "code",
   "execution_count": null,
   "id": "9de7e1b8-a910-41b7-9b5e-ef256b5e4327",
   "metadata": {},
   "outputs": [],
   "source": []
  },
  {
   "cell_type": "code",
   "execution_count": null,
   "id": "a612cb52-387b-4ebf-8a95-962a165c207c",
   "metadata": {},
   "outputs": [],
   "source": []
  },
  {
   "cell_type": "code",
   "execution_count": null,
   "id": "de71a8de-d1a8-41e1-a4ad-432ac04ed4b4",
   "metadata": {},
   "outputs": [],
   "source": []
  },
  {
   "cell_type": "code",
   "execution_count": null,
   "id": "7c2b1465-1f24-450b-aafa-f3b8024f1791",
   "metadata": {},
   "outputs": [],
   "source": []
  },
  {
   "cell_type": "code",
   "execution_count": null,
   "id": "0cabb99c-b982-4a01-a00c-3741cc5bbac1",
   "metadata": {},
   "outputs": [],
   "source": []
  },
  {
   "cell_type": "code",
   "execution_count": null,
   "id": "ead6c23d-2aa5-44e3-9c19-eb614127103e",
   "metadata": {},
   "outputs": [],
   "source": []
  },
  {
   "cell_type": "code",
   "execution_count": null,
   "id": "f20dfbae-5899-4146-b7ce-432f81f9361b",
   "metadata": {},
   "outputs": [],
   "source": []
  },
  {
   "cell_type": "code",
   "execution_count": 55,
   "id": "1580ef17-30a3-4233-a2b9-796d7418ba96",
   "metadata": {},
   "outputs": [
    {
     "name": "stdout",
     "output_type": "stream",
     "text": [
      "Num Features: 3\n",
      "Selected Features: [ True False False False  True False False False  True False False False]\n",
      "Feature Ranking: [ 1  2  4  6  1  3  7  5  1  8 10  9]\n"
     ]
    },
    {
     "name": "stderr",
     "output_type": "stream",
     "text": [
      "/usr/local/lib/python3.10/dist-packages/sklearn/linear_model/_logistic.py:444: ConvergenceWarning: lbfgs failed to converge (status=1):\n",
      "STOP: TOTAL NO. of ITERATIONS REACHED LIMIT.\n",
      "\n",
      "Increase the number of iterations (max_iter) or scale the data as shown in:\n",
      "    https://scikit-learn.org/stable/modules/preprocessing.html\n",
      "Please also refer to the documentation for alternative solver options:\n",
      "    https://scikit-learn.org/stable/modules/linear_model.html#logistic-regression\n",
      "  n_iter_i = _check_optimize_result(\n",
      "/usr/local/lib/python3.10/dist-packages/sklearn/linear_model/_logistic.py:444: ConvergenceWarning: lbfgs failed to converge (status=1):\n",
      "STOP: TOTAL NO. of ITERATIONS REACHED LIMIT.\n",
      "\n",
      "Increase the number of iterations (max_iter) or scale the data as shown in:\n",
      "    https://scikit-learn.org/stable/modules/preprocessing.html\n",
      "Please also refer to the documentation for alternative solver options:\n",
      "    https://scikit-learn.org/stable/modules/linear_model.html#logistic-regression\n",
      "  n_iter_i = _check_optimize_result(\n",
      "/usr/local/lib/python3.10/dist-packages/sklearn/linear_model/_logistic.py:444: ConvergenceWarning: lbfgs failed to converge (status=1):\n",
      "STOP: TOTAL NO. of ITERATIONS REACHED LIMIT.\n",
      "\n",
      "Increase the number of iterations (max_iter) or scale the data as shown in:\n",
      "    https://scikit-learn.org/stable/modules/preprocessing.html\n",
      "Please also refer to the documentation for alternative solver options:\n",
      "    https://scikit-learn.org/stable/modules/linear_model.html#logistic-regression\n",
      "  n_iter_i = _check_optimize_result(\n",
      "/usr/local/lib/python3.10/dist-packages/sklearn/linear_model/_logistic.py:444: ConvergenceWarning: lbfgs failed to converge (status=1):\n",
      "STOP: TOTAL NO. of ITERATIONS REACHED LIMIT.\n",
      "\n",
      "Increase the number of iterations (max_iter) or scale the data as shown in:\n",
      "    https://scikit-learn.org/stable/modules/preprocessing.html\n",
      "Please also refer to the documentation for alternative solver options:\n",
      "    https://scikit-learn.org/stable/modules/linear_model.html#logistic-regression\n",
      "  n_iter_i = _check_optimize_result(\n",
      "/usr/local/lib/python3.10/dist-packages/sklearn/linear_model/_logistic.py:444: ConvergenceWarning: lbfgs failed to converge (status=1):\n",
      "STOP: TOTAL NO. of ITERATIONS REACHED LIMIT.\n",
      "\n",
      "Increase the number of iterations (max_iter) or scale the data as shown in:\n",
      "    https://scikit-learn.org/stable/modules/preprocessing.html\n",
      "Please also refer to the documentation for alternative solver options:\n",
      "    https://scikit-learn.org/stable/modules/linear_model.html#logistic-regression\n",
      "  n_iter_i = _check_optimize_result(\n",
      "/usr/local/lib/python3.10/dist-packages/sklearn/linear_model/_logistic.py:444: ConvergenceWarning: lbfgs failed to converge (status=1):\n",
      "STOP: TOTAL NO. of ITERATIONS REACHED LIMIT.\n",
      "\n",
      "Increase the number of iterations (max_iter) or scale the data as shown in:\n",
      "    https://scikit-learn.org/stable/modules/preprocessing.html\n",
      "Please also refer to the documentation for alternative solver options:\n",
      "    https://scikit-learn.org/stable/modules/linear_model.html#logistic-regression\n",
      "  n_iter_i = _check_optimize_result(\n",
      "/usr/local/lib/python3.10/dist-packages/sklearn/linear_model/_logistic.py:444: ConvergenceWarning: lbfgs failed to converge (status=1):\n",
      "STOP: TOTAL NO. of ITERATIONS REACHED LIMIT.\n",
      "\n",
      "Increase the number of iterations (max_iter) or scale the data as shown in:\n",
      "    https://scikit-learn.org/stable/modules/preprocessing.html\n",
      "Please also refer to the documentation for alternative solver options:\n",
      "    https://scikit-learn.org/stable/modules/linear_model.html#logistic-regression\n",
      "  n_iter_i = _check_optimize_result(\n",
      "/usr/local/lib/python3.10/dist-packages/sklearn/linear_model/_logistic.py:444: ConvergenceWarning: lbfgs failed to converge (status=1):\n",
      "STOP: TOTAL NO. of ITERATIONS REACHED LIMIT.\n",
      "\n",
      "Increase the number of iterations (max_iter) or scale the data as shown in:\n",
      "    https://scikit-learn.org/stable/modules/preprocessing.html\n",
      "Please also refer to the documentation for alternative solver options:\n",
      "    https://scikit-learn.org/stable/modules/linear_model.html#logistic-regression\n",
      "  n_iter_i = _check_optimize_result(\n",
      "/usr/local/lib/python3.10/dist-packages/sklearn/linear_model/_logistic.py:444: ConvergenceWarning: lbfgs failed to converge (status=1):\n",
      "STOP: TOTAL NO. of ITERATIONS REACHED LIMIT.\n",
      "\n",
      "Increase the number of iterations (max_iter) or scale the data as shown in:\n",
      "    https://scikit-learn.org/stable/modules/preprocessing.html\n",
      "Please also refer to the documentation for alternative solver options:\n",
      "    https://scikit-learn.org/stable/modules/linear_model.html#logistic-regression\n",
      "  n_iter_i = _check_optimize_result(\n",
      "/usr/local/lib/python3.10/dist-packages/sklearn/linear_model/_logistic.py:444: ConvergenceWarning: lbfgs failed to converge (status=1):\n",
      "STOP: TOTAL NO. of ITERATIONS REACHED LIMIT.\n",
      "\n",
      "Increase the number of iterations (max_iter) or scale the data as shown in:\n",
      "    https://scikit-learn.org/stable/modules/preprocessing.html\n",
      "Please also refer to the documentation for alternative solver options:\n",
      "    https://scikit-learn.org/stable/modules/linear_model.html#logistic-regression\n",
      "  n_iter_i = _check_optimize_result(\n"
     ]
    }
   ],
   "source": [
    "# Extracción de características con RFE (Recursive Feature Elimination)\n",
    "from pandas import read_csv\n",
    "from sklearn.feature_selection import RFE\n",
    "from sklearn.linear_model import LogisticRegression\n",
    "# load data\n",
    "array = dataFrameLesion.values\n",
    "X = array[:,0:12]\n",
    "Y = array[:,12]\n",
    "# feature extraction\n",
    "rfe = RFE(estimator=LogisticRegression(solver='lbfgs'), n_features_to_select=3)\n",
    "fit = rfe.fit(X, Y)\n",
    "print(\"Num Features: %d\" % fit.n_features_)\n",
    "print(\"Selected Features: %s\" % fit.support_)\n",
    "print(\"Feature Ranking: %s\" % fit.ranking_)"
   ]
  },
  {
   "cell_type": "markdown",
   "id": "453f8b74-172c-4f73-87b2-b0df714d8607",
   "metadata": {},
   "source": [
    "#prueba 1"
   ]
  },
  {
   "cell_type": "code",
   "execution_count": null,
   "id": "fc7d5f8e-09d9-4021-a210-d1805831ef10",
   "metadata": {},
   "outputs": [],
   "source": [
    "import numpy as np\n",
    "import pandas as pd \n",
    "import seaborn as sns \n",
    "import matplotlib.pyplot as plt \n",
    " \n",
    "\n",
    "plt.style.use('ggplot')"
   ]
  },
  {
   "cell_type": "code",
   "execution_count": null,
   "id": "d524cb40-ae47-4be3-9d14-bf425c5d4dcf",
   "metadata": {},
   "outputs": [],
   "source": [
    "dataFrameLesion = ImagesToDataFrame(pathFiles)\n"
   ]
  },
  {
   "cell_type": "code",
   "execution_count": null,
   "id": "0879f622-c2d0-44af-b307-d15696182f8d",
   "metadata": {},
   "outputs": [],
   "source": []
  }
 ],
 "metadata": {
  "kernelspec": {
   "display_name": "Python 3 (ipykernel)",
   "language": "python",
   "name": "python3"
  },
  "language_info": {
   "codemirror_mode": {
    "name": "ipython",
    "version": 3
   },
   "file_extension": ".py",
   "mimetype": "text/x-python",
   "name": "python",
   "nbconvert_exporter": "python",
   "pygments_lexer": "ipython3",
   "version": "3.10.6"
  }
 },
 "nbformat": 4,
 "nbformat_minor": 5
}
